{
 "cells": [
  {
   "cell_type": "markdown",
   "id": "7bbad87a",
   "metadata": {},
   "source": [
    "# Assignment part 4 - Jupyter notebook\n",
    "L42A_Grp4\n",
    "\n",
    "## Instruction\n",
    "\n",
    "The assignment was to create a python script using Spyder that prints all integers from 1 to 10 and a subsequent markdown file in Jupyter notebook. The python code used should be in the markdown file as well. A HTML file is also generated. All files will be committed separately to the repository 'st2195_assignment_1'.\n",
    "\n"
   ]
  },
  {
   "cell_type": "markdown",
   "id": "41a25dcc",
   "metadata": {},
   "source": [
    "### Simple Python Code\n",
    "There are also multiple ways to code the assignment instructions. One way is as shown."
   ]
  },
  {
   "cell_type": "code",
   "execution_count": 1,
   "id": "dae11793",
   "metadata": {},
   "outputs": [
    {
     "name": "stdout",
     "output_type": "stream",
     "text": [
      "[1, 2, 3, 4, 5, 6, 7, 8, 9, 10]\n"
     ]
    }
   ],
   "source": [
    "print(list(range(1,11)))"
   ]
  },
  {
   "cell_type": "markdown",
   "id": "ccd0feb6",
   "metadata": {},
   "source": [
    "### For Loop\n",
    "There is also the method of for looping."
   ]
  },
  {
   "cell_type": "code",
   "execution_count": 2,
   "id": "427da658",
   "metadata": {},
   "outputs": [
    {
     "name": "stdout",
     "output_type": "stream",
     "text": [
      "1\n",
      "2\n",
      "3\n",
      "4\n",
      "5\n",
      "6\n",
      "7\n",
      "8\n",
      "9\n",
      "10\n"
     ]
    }
   ],
   "source": [
    "for x in range(1,11): print(x)"
   ]
  },
  {
   "cell_type": "markdown",
   "id": "ef5390d4",
   "metadata": {},
   "source": [
    "## Conclusion\n",
    "Above are the various ways to complete the assigment using python coding. "
   ]
  }
 ],
 "metadata": {
  "kernelspec": {
   "display_name": "Python 3 (ipykernel)",
   "language": "python",
   "name": "python3"
  },
  "language_info": {
   "codemirror_mode": {
    "name": "ipython",
    "version": 3
   },
   "file_extension": ".py",
   "mimetype": "text/x-python",
   "name": "python",
   "nbconvert_exporter": "python",
   "pygments_lexer": "ipython3",
   "version": "3.8.8"
  }
 },
 "nbformat": 4,
 "nbformat_minor": 5
}
